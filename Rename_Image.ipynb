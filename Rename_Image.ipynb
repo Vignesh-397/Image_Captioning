{
  "nbformat": 4,
  "nbformat_minor": 0,
  "metadata": {
    "colab": {
      "provenance": [],
      "authorship_tag": "ABX9TyOIhotIJ2uDcLBM1ZSyHakp",
      "include_colab_link": true
    },
    "kernelspec": {
      "name": "python3",
      "display_name": "Python 3"
    },
    "language_info": {
      "name": "python"
    }
  },
  "cells": [
    {
      "cell_type": "markdown",
      "metadata": {
        "id": "view-in-github",
        "colab_type": "text"
      },
      "source": [
        "<a href=\"https://colab.research.google.com/github/Vignesh-397/Image_Captioning/blob/main/Rename_Image.ipynb\" target=\"_parent\"><img src=\"https://colab.research.google.com/assets/colab-badge.svg\" alt=\"Open In Colab\"/></a>"
      ]
    },
    {
      "cell_type": "code",
      "execution_count": 1,
      "metadata": {
        "colab": {
          "base_uri": "https://localhost:8080/"
        },
        "id": "s90Mt1mR1ERy",
        "outputId": "bfcee336-d209-47b4-e000-0f390a761de7"
      },
      "outputs": [
        {
          "output_type": "stream",
          "name": "stdout",
          "text": [
            "Mounted at /content/drive\n",
            "Files in the directory:\n",
            "['WhatsApp Image 2024-11-25 at 22.05.47_182c8809.jpg', 'WhatsApp Image 2024-11-25 at 22.05.45_4260a89c.jpg', 'WhatsApp Image 2024-11-25 at 22.05.35_2a273140.jpg', 'WhatsApp Image 2024-11-25 at 22.05.24_f40dee6c.jpg', 'WhatsApp Image 2024-11-25 at 22.05.37_d7659505.jpg', 'WhatsApp Image 2024-11-25 at 22.05.42_a220e92e.jpg', 'WhatsApp Image 2024-11-25 at 22.05.46_c87e6730.jpg', 'WhatsApp Image 2024-11-25 at 22.05.46_a3f11a65.jpg', 'WhatsApp Image 2024-11-25 at 22.05.44_8eaa9718.jpg', 'WhatsApp Image 2024-11-25 at 22.05.38_001bbad7.jpg', 'WhatsApp Image 2024-11-25 at 22.05.40_450a0bde.jpg', 'WhatsApp Image 2024-11-25 at 22.05.40_68c67162.jpg', 'WhatsApp Image 2024-11-25 at 22.05.38_496e8da7.jpg', 'WhatsApp Image 2024-11-25 at 22.05.39_e92070b3.jpg', 'WhatsApp Image 2024-11-25 at 22.05.53_1bdff2fd.jpg', 'WhatsApp Image 2024-11-25 at 22.05.47_350bfb86.jpg', 'WhatsApp Image 2024-11-25 at 22.05.52_093be017.jpg', 'WhatsApp Image 2024-11-25 at 22.05.51_5fb46e29.jpg', 'WhatsApp Image 2024-11-25 at 22.05.48_6c9b31d0.jpg', 'WhatsApp Image 2024-11-25 at 22.05.55_d704fdc5.jpg', 'WhatsApp Image 2024-11-25 at 22.05.54_4e5920aa.jpg', 'WhatsApp Image 2024-11-25 at 22.05.48_2a371695.jpg', 'WhatsApp Image 2024-11-25 at 22.05.50_69a0908b.jpg', 'WhatsApp Image 2024-11-25 at 22.05.49_e0f8fb88.jpg', 'WhatsApp Image 2024-11-25 at 22.05.54_8aaaf420.jpg', 'WhatsApp Image 2024-11-25 at 22.05.51_095a759f.jpg', 'WhatsApp Image 2024-11-25 at 22.05.47_306a81c5.jpg', 'WhatsApp Image 2024-11-25 at 22.05.53_630ad02f.jpg', 'WhatsApp Image 2024-11-25 at 22.05.49_e26a6240.jpg', 'WhatsApp Image 2024-11-25 at 22.05.55_9a1a27f4.jpg', 'WhatsApp Image 2024-11-25 at 22.05.52_de46116c.jpg', 'WhatsApp Image 2024-11-25 at 22.05.49_8907a449.jpg', 'WhatsApp Image 2024-11-25 at 22.05.50_ce27b9e2.jpg', 'WhatsApp Image 2024-11-25 at 22.05.50_728b8d72.jpg', 'WhatsApp Image 2024-11-25 at 22.05.52_8bd6de7f.jpg', 'WhatsApp Image 2024-11-25 at 22.05.55_deea611b.jpg', 'IMG20241128185046.jpg', 'IMG20241128185013.jpg', 'IMG20241128184952.jpg', 'IMG20241128184930.jpg', 'IMG20241128184916.jpg', 'IMG20241128184910.jpg', 'IMG20241128184850.jpg', 'IMG20241128184827.jpg', 'IMG20241128184803.jpg', 'IMG20241128184745.jpg', 'IMG20241128184720.jpg', 'IMG20241128184712.jpg', 'IMG20241128184325.jpg', 'IMG20241128184242.jpg', 'IMG20241128184214.jpg', 'IMG20241128184207.jpg', 'IMG20241128184136.jpg', 'IMG20241128184058.jpg', 'IMG20241128183717.jpg', 'IMG20241128183609.jpg', 'IMG20241128183522.jpg', 'IMG20241128183438.jpg', 'IMG20241128183428.jpg', 'IMG20241128183410.jpg', 'IMG20241128183403.jpg', 'IMG20241128183337.jpg', 'IMG20241128183327.jpg', 'IMG20241128183256.jpg', 'IMG20241128183232.jpg', 'IMG20241128183215.jpg', 'IMG20241128183203.jpg', 'IMG20241128183154.jpg', 'IMG20241128183140.jpg', 'IMG20241128183126.jpg', 'IMG20241128183121.jpg', 'IMG20241128183030.jpg', 'IMG20241128183015.jpg', 'IMG20241128183013.jpg', 'IMG20241128182934.jpg', 'IMG20241128182904.jpg', 'IMG20241128182833.jpg', 'IMG20241128182825.jpg', 'IMG20241128182815.jpg', 'IMG20241128182740.jpg', 'IMG20241128182725.jpg', 'IMG20241128182706.jpg', 'IMG20241128182614.jpg', 'IMG20241128182605.jpg', 'IMG20241128182548.jpg', 'IMG20241128182545.jpg', 'IMG20241128182458.jpg', 'IMG20241128182452.jpg', 'IMG20241128182441.jpg', 'IMG20241128182350.jpg', 'IMG20241128182337.jpg', 'IMG20241128182330.jpg', 'IMG20241128182317.jpg', 'IMG20241128184309.jpg', 'IMG20241126145917.jpg', 'IMG20241128184258.jpg', 'IMG20241128183538.jpg', 'IMG20241128183653.jpg', 'IMG20241128183633.jpg', 'IMG20241128183629.jpg', 'IMG20241128183548.jpg', 'IMG-20241123-WA0003.jpg', 'IMG-20241123-WA0009.jpg', 'IMG-20241123-WA0011.jpg', 'IMG-20241123-WA0007.jpg', 'IMG-20241123-WA0005.jpg', '20241127_160554.jpg', 'IMG-20241123-WA0013.jpg', '20241127_152152.jpg', '20241127_152547.jpg', '20241127_152625.jpg', '20241127_153139.jpg']\n"
          ]
        }
      ],
      "source": [
        "from google.colab import drive\n",
        "import os\n",
        "\n",
        "# Mount Google Drive\n",
        "drive.mount('/content/drive')\n",
        "\n",
        "# Specify the directory path\n",
        "directory_path = '/content/drive/My Drive/Major Project 2024/Dataset/unnamed_images'\n",
        "\n",
        "# Example to list files in the directory\n",
        "if os.path.exists(directory_path):\n",
        "    print(\"Files in the directory:\")\n",
        "    print(os.listdir(directory_path))\n",
        "else:\n",
        "    print(\"Specified directory does not exist. Check the path!\")\n"
      ]
    },
    {
      "cell_type": "code",
      "source": [
        "import os\n",
        "\n",
        "def rename_files(directory, start_index):\n",
        "    \"\"\"\n",
        "    Renames all files in the specified directory sequentially starting from the given index.\n",
        "\n",
        "    Parameters:\n",
        "        directory (str): Path to the directory containing the files.\n",
        "        start_index (int): The index from which renaming starts.\n",
        "    \"\"\"\n",
        "    # Get a sorted list of files in the directory\n",
        "    files = sorted(os.listdir(directory))\n",
        "\n",
        "    print(f\"Renaming {len(files)} files starting from index {start_index}...\")\n",
        "\n",
        "    # Rename the files sequentially\n",
        "    for i, file in enumerate(files, start=start_index):\n",
        "        old_path = os.path.join(directory, file)\n",
        "\n",
        "        # Check if the file is not a directory\n",
        "        if os.path.isfile(old_path):\n",
        "            new_filename = f\"{i:03d}.jpg\"  # Create a zero-padded filename\n",
        "            new_path = os.path.join(directory, new_filename)\n",
        "            os.rename(old_path, new_path)\n",
        "            print(f\"Renamed {file} -> {new_filename}\")\n",
        "        else:\n",
        "            print(f\"Skipping directory: {file}\")\n",
        "\n",
        "\n",
        "starting_index = 219\n",
        "\n",
        "# Call the function to rename files\n",
        "rename_files(directory_path, starting_index)\n"
      ],
      "metadata": {
        "colab": {
          "base_uri": "https://localhost:8080/"
        },
        "id": "kSvtVhvE1OcR",
        "outputId": "29ca0fe4-685a-4fb0-f6f3-72c6bdc15f7e"
      },
      "execution_count": 4,
      "outputs": [
        {
          "output_type": "stream",
          "name": "stdout",
          "text": [
            "Renaming 112 files starting from index 219...\n",
            "Renamed 001.jpg -> 219.jpg\n",
            "Renamed 002.jpg -> 220.jpg\n",
            "Renamed 003.jpg -> 221.jpg\n",
            "Renamed 004.jpg -> 222.jpg\n",
            "Renamed 005.jpg -> 223.jpg\n",
            "Renamed IMG-20241123-WA0003.jpg -> 224.jpg\n",
            "Renamed IMG-20241123-WA0005.jpg -> 225.jpg\n",
            "Renamed IMG-20241123-WA0007.jpg -> 226.jpg\n",
            "Renamed IMG-20241123-WA0009.jpg -> 227.jpg\n",
            "Renamed IMG-20241123-WA0011.jpg -> 228.jpg\n",
            "Renamed IMG-20241123-WA0013.jpg -> 229.jpg\n",
            "Renamed IMG20241126145917.jpg -> 230.jpg\n",
            "Renamed IMG20241128182317.jpg -> 231.jpg\n",
            "Renamed IMG20241128182330.jpg -> 232.jpg\n",
            "Renamed IMG20241128182337.jpg -> 233.jpg\n",
            "Renamed IMG20241128182350.jpg -> 234.jpg\n",
            "Renamed IMG20241128182441.jpg -> 235.jpg\n",
            "Renamed IMG20241128182452.jpg -> 236.jpg\n",
            "Renamed IMG20241128182458.jpg -> 237.jpg\n",
            "Renamed IMG20241128182545.jpg -> 238.jpg\n",
            "Renamed IMG20241128182548.jpg -> 239.jpg\n",
            "Renamed IMG20241128182605.jpg -> 240.jpg\n",
            "Renamed IMG20241128182614.jpg -> 241.jpg\n",
            "Renamed IMG20241128182706.jpg -> 242.jpg\n",
            "Renamed IMG20241128182725.jpg -> 243.jpg\n",
            "Renamed IMG20241128182740.jpg -> 244.jpg\n",
            "Renamed IMG20241128182815.jpg -> 245.jpg\n",
            "Renamed IMG20241128182825.jpg -> 246.jpg\n",
            "Renamed IMG20241128182833.jpg -> 247.jpg\n",
            "Renamed IMG20241128182904.jpg -> 248.jpg\n",
            "Renamed IMG20241128182934.jpg -> 249.jpg\n",
            "Renamed IMG20241128183013.jpg -> 250.jpg\n",
            "Renamed IMG20241128183015.jpg -> 251.jpg\n",
            "Renamed IMG20241128183030.jpg -> 252.jpg\n",
            "Renamed IMG20241128183121.jpg -> 253.jpg\n",
            "Renamed IMG20241128183126.jpg -> 254.jpg\n",
            "Renamed IMG20241128183140.jpg -> 255.jpg\n",
            "Renamed IMG20241128183154.jpg -> 256.jpg\n",
            "Renamed IMG20241128183203.jpg -> 257.jpg\n",
            "Renamed IMG20241128183215.jpg -> 258.jpg\n",
            "Renamed IMG20241128183232.jpg -> 259.jpg\n",
            "Renamed IMG20241128183256.jpg -> 260.jpg\n",
            "Renamed IMG20241128183327.jpg -> 261.jpg\n",
            "Renamed IMG20241128183337.jpg -> 262.jpg\n",
            "Renamed IMG20241128183403.jpg -> 263.jpg\n",
            "Renamed IMG20241128183410.jpg -> 264.jpg\n",
            "Renamed IMG20241128183428.jpg -> 265.jpg\n",
            "Renamed IMG20241128183438.jpg -> 266.jpg\n",
            "Renamed IMG20241128183522.jpg -> 267.jpg\n",
            "Renamed IMG20241128183538.jpg -> 268.jpg\n",
            "Renamed IMG20241128183548.jpg -> 269.jpg\n",
            "Renamed IMG20241128183609.jpg -> 270.jpg\n",
            "Renamed IMG20241128183629.jpg -> 271.jpg\n",
            "Renamed IMG20241128183633.jpg -> 272.jpg\n",
            "Renamed IMG20241128183653.jpg -> 273.jpg\n",
            "Renamed IMG20241128183717.jpg -> 274.jpg\n",
            "Renamed IMG20241128184058.jpg -> 275.jpg\n",
            "Renamed IMG20241128184136.jpg -> 276.jpg\n",
            "Renamed IMG20241128184207.jpg -> 277.jpg\n",
            "Renamed IMG20241128184214.jpg -> 278.jpg\n",
            "Renamed IMG20241128184242.jpg -> 279.jpg\n",
            "Renamed IMG20241128184258.jpg -> 280.jpg\n",
            "Renamed IMG20241128184309.jpg -> 281.jpg\n",
            "Renamed IMG20241128184325.jpg -> 282.jpg\n",
            "Renamed IMG20241128184712.jpg -> 283.jpg\n",
            "Renamed IMG20241128184720.jpg -> 284.jpg\n",
            "Renamed IMG20241128184745.jpg -> 285.jpg\n",
            "Renamed IMG20241128184803.jpg -> 286.jpg\n",
            "Renamed IMG20241128184827.jpg -> 287.jpg\n",
            "Renamed IMG20241128184850.jpg -> 288.jpg\n",
            "Renamed IMG20241128184910.jpg -> 289.jpg\n",
            "Renamed IMG20241128184916.jpg -> 290.jpg\n",
            "Renamed IMG20241128184930.jpg -> 291.jpg\n",
            "Renamed IMG20241128184952.jpg -> 292.jpg\n",
            "Renamed IMG20241128185013.jpg -> 293.jpg\n",
            "Renamed IMG20241128185046.jpg -> 294.jpg\n",
            "Renamed WhatsApp Image 2024-11-25 at 22.05.24_f40dee6c.jpg -> 295.jpg\n",
            "Renamed WhatsApp Image 2024-11-25 at 22.05.35_2a273140.jpg -> 296.jpg\n",
            "Renamed WhatsApp Image 2024-11-25 at 22.05.37_d7659505.jpg -> 297.jpg\n",
            "Renamed WhatsApp Image 2024-11-25 at 22.05.38_001bbad7.jpg -> 298.jpg\n",
            "Renamed WhatsApp Image 2024-11-25 at 22.05.38_496e8da7.jpg -> 299.jpg\n",
            "Renamed WhatsApp Image 2024-11-25 at 22.05.39_e92070b3.jpg -> 300.jpg\n",
            "Renamed WhatsApp Image 2024-11-25 at 22.05.40_450a0bde.jpg -> 301.jpg\n",
            "Renamed WhatsApp Image 2024-11-25 at 22.05.40_68c67162.jpg -> 302.jpg\n",
            "Renamed WhatsApp Image 2024-11-25 at 22.05.42_a220e92e.jpg -> 303.jpg\n",
            "Renamed WhatsApp Image 2024-11-25 at 22.05.44_8eaa9718.jpg -> 304.jpg\n",
            "Renamed WhatsApp Image 2024-11-25 at 22.05.45_4260a89c.jpg -> 305.jpg\n",
            "Renamed WhatsApp Image 2024-11-25 at 22.05.46_a3f11a65.jpg -> 306.jpg\n",
            "Renamed WhatsApp Image 2024-11-25 at 22.05.46_c87e6730.jpg -> 307.jpg\n",
            "Renamed WhatsApp Image 2024-11-25 at 22.05.47_182c8809.jpg -> 308.jpg\n",
            "Renamed WhatsApp Image 2024-11-25 at 22.05.47_306a81c5.jpg -> 309.jpg\n",
            "Renamed WhatsApp Image 2024-11-25 at 22.05.47_350bfb86.jpg -> 310.jpg\n",
            "Renamed WhatsApp Image 2024-11-25 at 22.05.48_2a371695.jpg -> 311.jpg\n",
            "Renamed WhatsApp Image 2024-11-25 at 22.05.48_6c9b31d0.jpg -> 312.jpg\n",
            "Renamed WhatsApp Image 2024-11-25 at 22.05.49_8907a449.jpg -> 313.jpg\n",
            "Renamed WhatsApp Image 2024-11-25 at 22.05.49_e0f8fb88.jpg -> 314.jpg\n",
            "Renamed WhatsApp Image 2024-11-25 at 22.05.49_e26a6240.jpg -> 315.jpg\n",
            "Renamed WhatsApp Image 2024-11-25 at 22.05.50_69a0908b.jpg -> 316.jpg\n",
            "Renamed WhatsApp Image 2024-11-25 at 22.05.50_728b8d72.jpg -> 317.jpg\n",
            "Renamed WhatsApp Image 2024-11-25 at 22.05.50_ce27b9e2.jpg -> 318.jpg\n",
            "Renamed WhatsApp Image 2024-11-25 at 22.05.51_095a759f.jpg -> 319.jpg\n",
            "Renamed WhatsApp Image 2024-11-25 at 22.05.51_5fb46e29.jpg -> 320.jpg\n",
            "Renamed WhatsApp Image 2024-11-25 at 22.05.52_093be017.jpg -> 321.jpg\n",
            "Renamed WhatsApp Image 2024-11-25 at 22.05.52_8bd6de7f.jpg -> 322.jpg\n",
            "Renamed WhatsApp Image 2024-11-25 at 22.05.52_de46116c.jpg -> 323.jpg\n",
            "Renamed WhatsApp Image 2024-11-25 at 22.05.53_1bdff2fd.jpg -> 324.jpg\n",
            "Renamed WhatsApp Image 2024-11-25 at 22.05.53_630ad02f.jpg -> 325.jpg\n",
            "Renamed WhatsApp Image 2024-11-25 at 22.05.54_4e5920aa.jpg -> 326.jpg\n",
            "Renamed WhatsApp Image 2024-11-25 at 22.05.54_8aaaf420.jpg -> 327.jpg\n",
            "Renamed WhatsApp Image 2024-11-25 at 22.05.55_9a1a27f4.jpg -> 328.jpg\n",
            "Renamed WhatsApp Image 2024-11-25 at 22.05.55_d704fdc5.jpg -> 329.jpg\n",
            "Renamed WhatsApp Image 2024-11-25 at 22.05.55_deea611b.jpg -> 330.jpg\n"
          ]
        }
      ]
    }
  ]
}